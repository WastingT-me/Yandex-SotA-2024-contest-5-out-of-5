{
  "nbformat": 4,
  "nbformat_minor": 0,
  "metadata": {
    "colab": {
      "provenance": []
    },
    "kernelspec": {
      "name": "python3",
      "display_name": "Python 3"
    },
    "language_info": {
      "name": "python"
    }
  },
  "cells": [
    {
      "cell_type": "markdown",
      "source": [
        "#A"
      ],
      "metadata": {
        "id": "mw3kZZrJXhxH"
      }
    },
    {
      "cell_type": "code",
      "source": [
        "import numpy as np\n",
        "\n",
        "n = int(input())\n",
        "omega_beta = np.array(list(map(float, input().split())))\n",
        "x = np.array(list(map(float, input().split())))\n",
        "\n",
        "omega = omega_beta[:-1]\n",
        "beta = omega_beta[-1]\n",
        "\n",
        "z = np.dot(omega, x) + beta\n",
        "probability = 1 / (1 + np.exp(-z))\n",
        "\n",
        "print(f\"{probability:.2f}\")"
      ],
      "metadata": {
        "id": "MS333-EpXlm0"
      },
      "execution_count": null,
      "outputs": []
    },
    {
      "cell_type": "markdown",
      "source": [
        "#B"
      ],
      "metadata": {
        "id": "-POBw2drvQcz"
      }
    },
    {
      "cell_type": "code",
      "source": [
        "def sup(n):\n",
        "    if n == 1:\n",
        "        print(0)\n",
        "        print('x')\n",
        "        return\n",
        "\n",
        "    print((n - 1) * (n * 3 - 2))\n",
        "\n",
        "    for i in range(n):\n",
        "        if i % 2 == 0:\n",
        "            print('x' * n)\n",
        "        else:\n",
        "            print('-' * n)\n",
        "\n",
        "n = int(input())\n",
        "sup(n)"
      ],
      "metadata": {
        "id": "6Hm9MaFQvSDY"
      },
      "execution_count": null,
      "outputs": []
    },
    {
      "cell_type": "markdown",
      "source": [
        "#C"
      ],
      "metadata": {
        "id": "JWuG-iDO0jmK"
      }
    },
    {
      "cell_type": "code",
      "source": [
        "MOD = 10**9 + 7\n",
        "\n",
        "def modinv(a, p):\n",
        "    return pow(a, p - 2, p)\n",
        "\n",
        "def factorial_mod(n, p):\n",
        "    result = 1\n",
        "    for i in range(2, n + 1):\n",
        "        result = (result * i) % p\n",
        "    return result\n",
        "\n",
        "def find_probability(k, n, p):\n",
        "    l = max(k, n)\n",
        "    m = min(k, n)\n",
        "\n",
        "    m_fact = factorial_mod(m, p)\n",
        "\n",
        "    denom = 1\n",
        "    for i in range(l + 1, k + n + 1):\n",
        "        denom = (denom * i) % p\n",
        "\n",
        "    result = (m_fact * modinv(denom, p)) % p\n",
        "    return result\n",
        "\n",
        "a, k, n = map(int, input().split())\n",
        "result = find_probability(k, n, MOD)\n",
        "print(result)"
      ],
      "metadata": {
        "colab": {
          "base_uri": "https://localhost:8080/"
        },
        "id": "b3A5qJR3lMGV",
        "outputId": "71c5f5f8-1750-4506-da26-739452524dd5"
      },
      "execution_count": null,
      "outputs": [
        {
          "output_type": "stream",
          "name": "stdout",
          "text": [
            "2 2 2\n",
            "166666668\n"
          ]
        }
      ]
    }
  ]
}